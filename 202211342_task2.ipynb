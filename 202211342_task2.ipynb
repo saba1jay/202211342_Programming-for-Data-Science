{
  "cells": [
    {
      "attachments": {},
      "cell_type": "markdown",
      "metadata": {
        "id": "tckpZN7Ql881"
      },
      "source": [
        "# UFCFVQ-15-M Programming for Data Science\n",
        "# Programming Task 2\n",
        "\n",
        "## Student Id: 202211342\n"
      ]
    },
    {
      "cell_type": "markdown",
      "metadata": {
        "id": "7L9k_XZYl89C"
      },
      "source": [
        "### Requirement FR2.1 - Read CSV data from a file (with a header row) into memory \n",
        "\n",
        "####explanation\n",
        "```\n",
        "Use pandas read_csv function to read the file.\n",
        "```"
      ]
    },
    {
      "cell_type": "code",
      "execution_count": 7,
      "metadata": {
        "colab": {
          "base_uri": "https://localhost:8080/",
          "height": 443
        },
        "id": "kuHlOHabl89D",
        "outputId": "6505af6f-7068-47e1-c2b5-b18c6b6535cc"
      },
      "outputs": [],
      "source": [
        "\n",
        "\n",
        "import pandas as pd\n",
        "data_frame_a = pd.read_csv('task2a.csv')\n",
        "\n"
      ]
    },
    {
      "cell_type": "markdown",
      "metadata": {
        "id": "WEZfom9il89H"
      },
      "source": [
        "### Requirement FR2.2 - Read CSV data from a file (without a header row) into memory\n",
        "\n",
        "####explanation\n",
        "```\n",
        "Use pandas read_csv function to read the file,\n",
        "and specify the column manually. \n",
        "```"
      ]
    },
    {
      "cell_type": "code",
      "execution_count": 8,
      "metadata": {
        "colab": {
          "base_uri": "https://localhost:8080/"
        },
        "id": "dYgyzsjdl89J",
        "outputId": "d110c185-74d2-4658-de04-df85f59b90c9"
      },
      "outputs": [],
      "source": [
        "# add code here\n",
        "data_frame_b = pd.read_csv('task2b.csv', names=['id_student', 'click_event'])\n"
      ]
    },
    {
      "cell_type": "markdown",
      "metadata": {
        "id": "kU2mw0qul89J"
      },
      "source": [
        "### Requirement FR2.3 - Merge the data from two Dataframes\n",
        "\n",
        "####explanation\n",
        "```\n",
        "Use pandas merge function to merge 2 data frames,\n",
        "which will be joined on id_student column.\n",
        "```"
      ]
    },
    {
      "cell_type": "code",
      "execution_count": 9,
      "metadata": {
        "colab": {
          "base_uri": "https://localhost:8080/",
          "height": 419
        },
        "id": "N00Hot0_l89N",
        "outputId": "8f56ed6a-05f9-4586-be78-32448a02dfa2"
      },
      "outputs": [
        {
          "data": {
            "text/html": [
              "<div>\n",
              "<style scoped>\n",
              "    .dataframe tbody tr th:only-of-type {\n",
              "        vertical-align: middle;\n",
              "    }\n",
              "\n",
              "    .dataframe tbody tr th {\n",
              "        vertical-align: top;\n",
              "    }\n",
              "\n",
              "    .dataframe thead th {\n",
              "        text-align: right;\n",
              "    }\n",
              "</style>\n",
              "<table border=\"1\" class=\"dataframe\">\n",
              "  <thead>\n",
              "    <tr style=\"text-align: right;\">\n",
              "      <th></th>\n",
              "      <th>Unnamed: 0</th>\n",
              "      <th>id_student</th>\n",
              "      <th>gender</th>\n",
              "      <th>region</th>\n",
              "      <th>highest_education</th>\n",
              "      <th>age_band</th>\n",
              "      <th>disability</th>\n",
              "      <th>final_result</th>\n",
              "      <th>score</th>\n",
              "      <th>click_event</th>\n",
              "    </tr>\n",
              "  </thead>\n",
              "  <tbody>\n",
              "    <tr>\n",
              "      <th>0</th>\n",
              "      <td>0</td>\n",
              "      <td>11391</td>\n",
              "      <td>M</td>\n",
              "      <td>East Anglian Region</td>\n",
              "      <td>HE Qualification</td>\n",
              "      <td>55&lt;=</td>\n",
              "      <td>N</td>\n",
              "      <td>Pass</td>\n",
              "      <td>82.0</td>\n",
              "      <td>934.0</td>\n",
              "    </tr>\n",
              "    <tr>\n",
              "      <th>1</th>\n",
              "      <td>1</td>\n",
              "      <td>28400</td>\n",
              "      <td>F</td>\n",
              "      <td>Scotland</td>\n",
              "      <td>HE Qualification</td>\n",
              "      <td>35-55</td>\n",
              "      <td>N</td>\n",
              "      <td>Pass</td>\n",
              "      <td>67.0</td>\n",
              "      <td>1435.0</td>\n",
              "    </tr>\n",
              "    <tr>\n",
              "      <th>2</th>\n",
              "      <td>2</td>\n",
              "      <td>31604</td>\n",
              "      <td>F</td>\n",
              "      <td>South East Region</td>\n",
              "      <td>A Level or Equivalent</td>\n",
              "      <td>35-55</td>\n",
              "      <td>N</td>\n",
              "      <td>Pass</td>\n",
              "      <td>76.0</td>\n",
              "      <td>2158.0</td>\n",
              "    </tr>\n",
              "    <tr>\n",
              "      <th>3</th>\n",
              "      <td>3</td>\n",
              "      <td>32885</td>\n",
              "      <td>F</td>\n",
              "      <td>West Midlands Region</td>\n",
              "      <td>Lower Than A Level</td>\n",
              "      <td>0-35</td>\n",
              "      <td>N</td>\n",
              "      <td>Pass</td>\n",
              "      <td>55.0</td>\n",
              "      <td>1034.0</td>\n",
              "    </tr>\n",
              "    <tr>\n",
              "      <th>4</th>\n",
              "      <td>4</td>\n",
              "      <td>38053</td>\n",
              "      <td>M</td>\n",
              "      <td>Wales</td>\n",
              "      <td>A Level or Equivalent</td>\n",
              "      <td>35-55</td>\n",
              "      <td>N</td>\n",
              "      <td>Pass</td>\n",
              "      <td>68.0</td>\n",
              "      <td>2445.0</td>\n",
              "    </tr>\n",
              "    <tr>\n",
              "      <th>...</th>\n",
              "      <td>...</td>\n",
              "      <td>...</td>\n",
              "      <td>...</td>\n",
              "      <td>...</td>\n",
              "      <td>...</td>\n",
              "      <td>...</td>\n",
              "      <td>...</td>\n",
              "      <td>...</td>\n",
              "      <td>...</td>\n",
              "      <td>...</td>\n",
              "    </tr>\n",
              "    <tr>\n",
              "      <th>26716</th>\n",
              "      <td>26741</td>\n",
              "      <td>2620947</td>\n",
              "      <td>F</td>\n",
              "      <td>Scotland</td>\n",
              "      <td>A Level or Equivalent</td>\n",
              "      <td>0-35</td>\n",
              "      <td>Y</td>\n",
              "      <td>Distinction</td>\n",
              "      <td>89.0</td>\n",
              "      <td>476.0</td>\n",
              "    </tr>\n",
              "    <tr>\n",
              "      <th>26717</th>\n",
              "      <td>26742</td>\n",
              "      <td>2645731</td>\n",
              "      <td>F</td>\n",
              "      <td>East Anglian Region</td>\n",
              "      <td>Lower Than A Level</td>\n",
              "      <td>35-55</td>\n",
              "      <td>N</td>\n",
              "      <td>Distinction</td>\n",
              "      <td>89.0</td>\n",
              "      <td>893.0</td>\n",
              "    </tr>\n",
              "    <tr>\n",
              "      <th>26718</th>\n",
              "      <td>26743</td>\n",
              "      <td>2648187</td>\n",
              "      <td>F</td>\n",
              "      <td>South Region</td>\n",
              "      <td>A Level or Equivalent</td>\n",
              "      <td>0-35</td>\n",
              "      <td>Y</td>\n",
              "      <td>Pass</td>\n",
              "      <td>77.0</td>\n",
              "      <td>312.0</td>\n",
              "    </tr>\n",
              "    <tr>\n",
              "      <th>26719</th>\n",
              "      <td>26744</td>\n",
              "      <td>2679821</td>\n",
              "      <td>F</td>\n",
              "      <td>South East Region</td>\n",
              "      <td>Lower Than A Level</td>\n",
              "      <td>35-55</td>\n",
              "      <td>N</td>\n",
              "      <td>Withdrawn</td>\n",
              "      <td>92.0</td>\n",
              "      <td>275.0</td>\n",
              "    </tr>\n",
              "    <tr>\n",
              "      <th>26720</th>\n",
              "      <td>26745</td>\n",
              "      <td>2684003</td>\n",
              "      <td>F</td>\n",
              "      <td>Yorkshire Region</td>\n",
              "      <td>HE Qualification</td>\n",
              "      <td>35-55</td>\n",
              "      <td>N</td>\n",
              "      <td>Distinction</td>\n",
              "      <td>83.0</td>\n",
              "      <td>616.0</td>\n",
              "    </tr>\n",
              "  </tbody>\n",
              "</table>\n",
              "<p>26721 rows × 10 columns</p>\n",
              "</div>"
            ],
            "text/plain": [
              "       Unnamed: 0  id_student gender                region  \\\n",
              "0               0       11391      M   East Anglian Region   \n",
              "1               1       28400      F              Scotland   \n",
              "2               2       31604      F     South East Region   \n",
              "3               3       32885      F  West Midlands Region   \n",
              "4               4       38053      M                 Wales   \n",
              "...           ...         ...    ...                   ...   \n",
              "26716       26741     2620947      F              Scotland   \n",
              "26717       26742     2645731      F   East Anglian Region   \n",
              "26718       26743     2648187      F          South Region   \n",
              "26719       26744     2679821      F     South East Region   \n",
              "26720       26745     2684003      F      Yorkshire Region   \n",
              "\n",
              "           highest_education age_band disability final_result  score  \\\n",
              "0           HE Qualification     55<=          N         Pass   82.0   \n",
              "1           HE Qualification    35-55          N         Pass   67.0   \n",
              "2      A Level or Equivalent    35-55          N         Pass   76.0   \n",
              "3         Lower Than A Level     0-35          N         Pass   55.0   \n",
              "4      A Level or Equivalent    35-55          N         Pass   68.0   \n",
              "...                      ...      ...        ...          ...    ...   \n",
              "26716  A Level or Equivalent     0-35          Y  Distinction   89.0   \n",
              "26717     Lower Than A Level    35-55          N  Distinction   89.0   \n",
              "26718  A Level or Equivalent     0-35          Y         Pass   77.0   \n",
              "26719     Lower Than A Level    35-55          N    Withdrawn   92.0   \n",
              "26720       HE Qualification    35-55          N  Distinction   83.0   \n",
              "\n",
              "       click_event  \n",
              "0            934.0  \n",
              "1           1435.0  \n",
              "2           2158.0  \n",
              "3           1034.0  \n",
              "4           2445.0  \n",
              "...            ...  \n",
              "26716        476.0  \n",
              "26717        893.0  \n",
              "26718        312.0  \n",
              "26719        275.0  \n",
              "26720        616.0  \n",
              "\n",
              "[26721 rows x 10 columns]"
            ]
          },
          "execution_count": 9,
          "metadata": {},
          "output_type": "execute_result"
        }
      ],
      "source": [
        "# add code here\n",
        "data_frame_merg = pd.merge(data_frame_a, data_frame_b, on=\"id_student\")\n",
        "data_frame_merg"
      ]
    },
    {
      "attachments": {},
      "cell_type": "markdown",
      "metadata": {
        "id": "WUprOh2Pl89N"
      },
      "source": [
        "### Requirement FR2.4 - Remove any rows that contain missing values\n",
        "\n",
        "####pseudo code\n",
        "```\n",
        "Use pandas dropna function to remove the records that contain missing values.\n",
        "```"
      ]
    },
    {
      "cell_type": "code",
      "execution_count": 10,
      "metadata": {
        "colab": {
          "base_uri": "https://localhost:8080/",
          "height": 419
        },
        "id": "-Py0lpvUl89O",
        "outputId": "f7f16fb7-3f69-493f-f31e-c98a9517e5d0"
      },
      "outputs": [
        {
          "data": {
            "text/html": [
              "<div>\n",
              "<style scoped>\n",
              "    .dataframe tbody tr th:only-of-type {\n",
              "        vertical-align: middle;\n",
              "    }\n",
              "\n",
              "    .dataframe tbody tr th {\n",
              "        vertical-align: top;\n",
              "    }\n",
              "\n",
              "    .dataframe thead th {\n",
              "        text-align: right;\n",
              "    }\n",
              "</style>\n",
              "<table border=\"1\" class=\"dataframe\">\n",
              "  <thead>\n",
              "    <tr style=\"text-align: right;\">\n",
              "      <th></th>\n",
              "      <th>Unnamed: 0</th>\n",
              "      <th>id_student</th>\n",
              "      <th>gender</th>\n",
              "      <th>region</th>\n",
              "      <th>highest_education</th>\n",
              "      <th>age_band</th>\n",
              "      <th>disability</th>\n",
              "      <th>final_result</th>\n",
              "      <th>score</th>\n",
              "      <th>click_event</th>\n",
              "    </tr>\n",
              "  </thead>\n",
              "  <tbody>\n",
              "    <tr>\n",
              "      <th>0</th>\n",
              "      <td>0</td>\n",
              "      <td>11391</td>\n",
              "      <td>M</td>\n",
              "      <td>East Anglian Region</td>\n",
              "      <td>HE Qualification</td>\n",
              "      <td>55&lt;=</td>\n",
              "      <td>N</td>\n",
              "      <td>Pass</td>\n",
              "      <td>82.0</td>\n",
              "      <td>934.0</td>\n",
              "    </tr>\n",
              "    <tr>\n",
              "      <th>1</th>\n",
              "      <td>1</td>\n",
              "      <td>28400</td>\n",
              "      <td>F</td>\n",
              "      <td>Scotland</td>\n",
              "      <td>HE Qualification</td>\n",
              "      <td>35-55</td>\n",
              "      <td>N</td>\n",
              "      <td>Pass</td>\n",
              "      <td>67.0</td>\n",
              "      <td>1435.0</td>\n",
              "    </tr>\n",
              "    <tr>\n",
              "      <th>2</th>\n",
              "      <td>2</td>\n",
              "      <td>31604</td>\n",
              "      <td>F</td>\n",
              "      <td>South East Region</td>\n",
              "      <td>A Level or Equivalent</td>\n",
              "      <td>35-55</td>\n",
              "      <td>N</td>\n",
              "      <td>Pass</td>\n",
              "      <td>76.0</td>\n",
              "      <td>2158.0</td>\n",
              "    </tr>\n",
              "    <tr>\n",
              "      <th>3</th>\n",
              "      <td>3</td>\n",
              "      <td>32885</td>\n",
              "      <td>F</td>\n",
              "      <td>West Midlands Region</td>\n",
              "      <td>Lower Than A Level</td>\n",
              "      <td>0-35</td>\n",
              "      <td>N</td>\n",
              "      <td>Pass</td>\n",
              "      <td>55.0</td>\n",
              "      <td>1034.0</td>\n",
              "    </tr>\n",
              "    <tr>\n",
              "      <th>4</th>\n",
              "      <td>4</td>\n",
              "      <td>38053</td>\n",
              "      <td>M</td>\n",
              "      <td>Wales</td>\n",
              "      <td>A Level or Equivalent</td>\n",
              "      <td>35-55</td>\n",
              "      <td>N</td>\n",
              "      <td>Pass</td>\n",
              "      <td>68.0</td>\n",
              "      <td>2445.0</td>\n",
              "    </tr>\n",
              "    <tr>\n",
              "      <th>...</th>\n",
              "      <td>...</td>\n",
              "      <td>...</td>\n",
              "      <td>...</td>\n",
              "      <td>...</td>\n",
              "      <td>...</td>\n",
              "      <td>...</td>\n",
              "      <td>...</td>\n",
              "      <td>...</td>\n",
              "      <td>...</td>\n",
              "      <td>...</td>\n",
              "    </tr>\n",
              "    <tr>\n",
              "      <th>26716</th>\n",
              "      <td>26741</td>\n",
              "      <td>2620947</td>\n",
              "      <td>F</td>\n",
              "      <td>Scotland</td>\n",
              "      <td>A Level or Equivalent</td>\n",
              "      <td>0-35</td>\n",
              "      <td>Y</td>\n",
              "      <td>Distinction</td>\n",
              "      <td>89.0</td>\n",
              "      <td>476.0</td>\n",
              "    </tr>\n",
              "    <tr>\n",
              "      <th>26717</th>\n",
              "      <td>26742</td>\n",
              "      <td>2645731</td>\n",
              "      <td>F</td>\n",
              "      <td>East Anglian Region</td>\n",
              "      <td>Lower Than A Level</td>\n",
              "      <td>35-55</td>\n",
              "      <td>N</td>\n",
              "      <td>Distinction</td>\n",
              "      <td>89.0</td>\n",
              "      <td>893.0</td>\n",
              "    </tr>\n",
              "    <tr>\n",
              "      <th>26718</th>\n",
              "      <td>26743</td>\n",
              "      <td>2648187</td>\n",
              "      <td>F</td>\n",
              "      <td>South Region</td>\n",
              "      <td>A Level or Equivalent</td>\n",
              "      <td>0-35</td>\n",
              "      <td>Y</td>\n",
              "      <td>Pass</td>\n",
              "      <td>77.0</td>\n",
              "      <td>312.0</td>\n",
              "    </tr>\n",
              "    <tr>\n",
              "      <th>26719</th>\n",
              "      <td>26744</td>\n",
              "      <td>2679821</td>\n",
              "      <td>F</td>\n",
              "      <td>South East Region</td>\n",
              "      <td>Lower Than A Level</td>\n",
              "      <td>35-55</td>\n",
              "      <td>N</td>\n",
              "      <td>Withdrawn</td>\n",
              "      <td>92.0</td>\n",
              "      <td>275.0</td>\n",
              "    </tr>\n",
              "    <tr>\n",
              "      <th>26720</th>\n",
              "      <td>26745</td>\n",
              "      <td>2684003</td>\n",
              "      <td>F</td>\n",
              "      <td>Yorkshire Region</td>\n",
              "      <td>HE Qualification</td>\n",
              "      <td>35-55</td>\n",
              "      <td>N</td>\n",
              "      <td>Distinction</td>\n",
              "      <td>83.0</td>\n",
              "      <td>616.0</td>\n",
              "    </tr>\n",
              "  </tbody>\n",
              "</table>\n",
              "<p>26721 rows × 10 columns</p>\n",
              "</div>"
            ],
            "text/plain": [
              "       Unnamed: 0  id_student gender                region  \\\n",
              "0               0       11391      M   East Anglian Region   \n",
              "1               1       28400      F              Scotland   \n",
              "2               2       31604      F     South East Region   \n",
              "3               3       32885      F  West Midlands Region   \n",
              "4               4       38053      M                 Wales   \n",
              "...           ...         ...    ...                   ...   \n",
              "26716       26741     2620947      F              Scotland   \n",
              "26717       26742     2645731      F   East Anglian Region   \n",
              "26718       26743     2648187      F          South Region   \n",
              "26719       26744     2679821      F     South East Region   \n",
              "26720       26745     2684003      F      Yorkshire Region   \n",
              "\n",
              "           highest_education age_band disability final_result  score  \\\n",
              "0           HE Qualification     55<=          N         Pass   82.0   \n",
              "1           HE Qualification    35-55          N         Pass   67.0   \n",
              "2      A Level or Equivalent    35-55          N         Pass   76.0   \n",
              "3         Lower Than A Level     0-35          N         Pass   55.0   \n",
              "4      A Level or Equivalent    35-55          N         Pass   68.0   \n",
              "...                      ...      ...        ...          ...    ...   \n",
              "26716  A Level or Equivalent     0-35          Y  Distinction   89.0   \n",
              "26717     Lower Than A Level    35-55          N  Distinction   89.0   \n",
              "26718  A Level or Equivalent     0-35          Y         Pass   77.0   \n",
              "26719     Lower Than A Level    35-55          N    Withdrawn   92.0   \n",
              "26720       HE Qualification    35-55          N  Distinction   83.0   \n",
              "\n",
              "       click_event  \n",
              "0            934.0  \n",
              "1           1435.0  \n",
              "2           2158.0  \n",
              "3           1034.0  \n",
              "4           2445.0  \n",
              "...            ...  \n",
              "26716        476.0  \n",
              "26717        893.0  \n",
              "26718        312.0  \n",
              "26719        275.0  \n",
              "26720        616.0  \n",
              "\n",
              "[26721 rows x 10 columns]"
            ]
          },
          "execution_count": 10,
          "metadata": {},
          "output_type": "execute_result"
        }
      ],
      "source": [
        "# add code here\n",
        "\n",
        "data_frame_merg.dropna()\n",
        "data_frame_merg\n"
      ]
    },
    {
      "cell_type": "markdown",
      "metadata": {
        "id": "rJoQq5pel89O"
      },
      "source": [
        "### Requirement FR2.5 - Filter out unnecessary rows\n",
        "\n",
        "####explanation\n",
        "```\n",
        "Specify a condition to filter out rows. \n",
        "```"
      ]
    },
    {
      "cell_type": "code",
      "execution_count": 11,
      "metadata": {
        "colab": {
          "base_uri": "https://localhost:8080/",
          "height": 419
        },
        "id": "pfsWa55Ml89S",
        "outputId": "7fe37e6f-3f33-42b8-82c7-14f24b53e0e1"
      },
      "outputs": [
        {
          "ename": "TypeError",
          "evalue": "'<' not supported between instances of 'str' and 'int'",
          "output_type": "error",
          "traceback": [
            "\u001b[0;31m---------------------------------------------------------------------------\u001b[0m",
            "\u001b[0;31mTypeError\u001b[0m                                 Traceback (most recent call last)",
            "Cell \u001b[0;32mIn[11], line 2\u001b[0m\n\u001b[1;32m      1\u001b[0m \u001b[39m# add code here\u001b[39;00m\n\u001b[0;32m----> 2\u001b[0m data_frame_merg \u001b[39m=\u001b[39m data_frame_merg[data_frame_merg[\u001b[39m'\u001b[39;49m\u001b[39mclick_event\u001b[39;49m\u001b[39m'\u001b[39;49m \u001b[39m<\u001b[39;49m \u001b[39m10\u001b[39;49m]]\n\u001b[1;32m      3\u001b[0m data_frame_merg\n",
            "\u001b[0;31mTypeError\u001b[0m: '<' not supported between instances of 'str' and 'int'"
          ]
        }
      ],
      "source": [
        "# add code here\n",
        "data_frame_merg = data_frame_merg[data_frame_merg['click_event' < 10]]\n",
        "data_frame_merg"
      ]
    },
    {
      "cell_type": "markdown",
      "metadata": {
        "id": "ICz5is1ol89S"
      },
      "source": [
        "### Requirement FR2.6 - Rename the score column\n",
        "\n",
        "####pseudo code\n",
        "```\n",
        "Use pandas rename function to rename the column.\n",
        "```"
      ]
    },
    {
      "cell_type": "code",
      "execution_count": null,
      "metadata": {
        "colab": {
          "base_uri": "https://localhost:8080/",
          "height": 419
        },
        "id": "J8blITk0l89T",
        "outputId": "0881ecba-e175-48e1-cb95-6afaf5e0ac46"
      },
      "outputs": [
        {
          "data": {
            "text/html": [
              "<div>\n",
              "<style scoped>\n",
              "    .dataframe tbody tr th:only-of-type {\n",
              "        vertical-align: middle;\n",
              "    }\n",
              "\n",
              "    .dataframe tbody tr th {\n",
              "        vertical-align: top;\n",
              "    }\n",
              "\n",
              "    .dataframe thead th {\n",
              "        text-align: right;\n",
              "    }\n",
              "</style>\n",
              "<table border=\"1\" class=\"dataframe\">\n",
              "  <thead>\n",
              "    <tr style=\"text-align: right;\">\n",
              "      <th></th>\n",
              "      <th>id_student</th>\n",
              "      <th>gender</th>\n",
              "      <th>region</th>\n",
              "      <th>highest_education</th>\n",
              "      <th>age_band</th>\n",
              "      <th>disability</th>\n",
              "      <th>final_result</th>\n",
              "      <th>final_mark</th>\n",
              "      <th>click_event</th>\n",
              "    </tr>\n",
              "  </thead>\n",
              "  <tbody>\n",
              "    <tr>\n",
              "      <th>0</th>\n",
              "      <td>11391</td>\n",
              "      <td>M</td>\n",
              "      <td>East Anglian Region</td>\n",
              "      <td>HE Qualification</td>\n",
              "      <td>55&lt;=</td>\n",
              "      <td>N</td>\n",
              "      <td>Pass</td>\n",
              "      <td>82.0</td>\n",
              "      <td>934.0</td>\n",
              "    </tr>\n",
              "    <tr>\n",
              "      <th>1</th>\n",
              "      <td>28400</td>\n",
              "      <td>F</td>\n",
              "      <td>Scotland</td>\n",
              "      <td>HE Qualification</td>\n",
              "      <td>35-55</td>\n",
              "      <td>N</td>\n",
              "      <td>Pass</td>\n",
              "      <td>67.0</td>\n",
              "      <td>1435.0</td>\n",
              "    </tr>\n",
              "    <tr>\n",
              "      <th>2</th>\n",
              "      <td>31604</td>\n",
              "      <td>F</td>\n",
              "      <td>South East Region</td>\n",
              "      <td>A Level or Equivalent</td>\n",
              "      <td>35-55</td>\n",
              "      <td>N</td>\n",
              "      <td>Pass</td>\n",
              "      <td>76.0</td>\n",
              "      <td>2158.0</td>\n",
              "    </tr>\n",
              "    <tr>\n",
              "      <th>3</th>\n",
              "      <td>32885</td>\n",
              "      <td>F</td>\n",
              "      <td>West Midlands Region</td>\n",
              "      <td>Lower Than A Level</td>\n",
              "      <td>0-35</td>\n",
              "      <td>N</td>\n",
              "      <td>Pass</td>\n",
              "      <td>55.0</td>\n",
              "      <td>1034.0</td>\n",
              "    </tr>\n",
              "    <tr>\n",
              "      <th>4</th>\n",
              "      <td>38053</td>\n",
              "      <td>M</td>\n",
              "      <td>Wales</td>\n",
              "      <td>A Level or Equivalent</td>\n",
              "      <td>35-55</td>\n",
              "      <td>N</td>\n",
              "      <td>Pass</td>\n",
              "      <td>68.0</td>\n",
              "      <td>2445.0</td>\n",
              "    </tr>\n",
              "    <tr>\n",
              "      <th>...</th>\n",
              "      <td>...</td>\n",
              "      <td>...</td>\n",
              "      <td>...</td>\n",
              "      <td>...</td>\n",
              "      <td>...</td>\n",
              "      <td>...</td>\n",
              "      <td>...</td>\n",
              "      <td>...</td>\n",
              "      <td>...</td>\n",
              "    </tr>\n",
              "    <tr>\n",
              "      <th>26716</th>\n",
              "      <td>2620947</td>\n",
              "      <td>F</td>\n",
              "      <td>Scotland</td>\n",
              "      <td>A Level or Equivalent</td>\n",
              "      <td>0-35</td>\n",
              "      <td>Y</td>\n",
              "      <td>Distinction</td>\n",
              "      <td>89.0</td>\n",
              "      <td>476.0</td>\n",
              "    </tr>\n",
              "    <tr>\n",
              "      <th>26717</th>\n",
              "      <td>2645731</td>\n",
              "      <td>F</td>\n",
              "      <td>East Anglian Region</td>\n",
              "      <td>Lower Than A Level</td>\n",
              "      <td>35-55</td>\n",
              "      <td>N</td>\n",
              "      <td>Distinction</td>\n",
              "      <td>89.0</td>\n",
              "      <td>893.0</td>\n",
              "    </tr>\n",
              "    <tr>\n",
              "      <th>26718</th>\n",
              "      <td>2648187</td>\n",
              "      <td>F</td>\n",
              "      <td>South Region</td>\n",
              "      <td>A Level or Equivalent</td>\n",
              "      <td>0-35</td>\n",
              "      <td>Y</td>\n",
              "      <td>Pass</td>\n",
              "      <td>77.0</td>\n",
              "      <td>312.0</td>\n",
              "    </tr>\n",
              "    <tr>\n",
              "      <th>26719</th>\n",
              "      <td>2679821</td>\n",
              "      <td>F</td>\n",
              "      <td>South East Region</td>\n",
              "      <td>Lower Than A Level</td>\n",
              "      <td>35-55</td>\n",
              "      <td>N</td>\n",
              "      <td>Withdrawn</td>\n",
              "      <td>92.0</td>\n",
              "      <td>275.0</td>\n",
              "    </tr>\n",
              "    <tr>\n",
              "      <th>26720</th>\n",
              "      <td>2684003</td>\n",
              "      <td>F</td>\n",
              "      <td>Yorkshire Region</td>\n",
              "      <td>HE Qualification</td>\n",
              "      <td>35-55</td>\n",
              "      <td>N</td>\n",
              "      <td>Distinction</td>\n",
              "      <td>83.0</td>\n",
              "      <td>616.0</td>\n",
              "    </tr>\n",
              "  </tbody>\n",
              "</table>\n",
              "<p>25275 rows × 9 columns</p>\n",
              "</div>"
            ],
            "text/plain": [
              "       id_student gender  ... final_mark click_event\n",
              "0           11391      M  ...       82.0       934.0\n",
              "1           28400      F  ...       67.0      1435.0\n",
              "2           31604      F  ...       76.0      2158.0\n",
              "3           32885      F  ...       55.0      1034.0\n",
              "4           38053      M  ...       68.0      2445.0\n",
              "...           ...    ...  ...        ...         ...\n",
              "26716     2620947      F  ...       89.0       476.0\n",
              "26717     2645731      F  ...       89.0       893.0\n",
              "26718     2648187      F  ...       77.0       312.0\n",
              "26719     2679821      F  ...       92.0       275.0\n",
              "26720     2684003      F  ...       83.0       616.0\n",
              "\n",
              "[25275 rows x 9 columns]"
            ]
          },
          "execution_count": 70,
          "metadata": {
            "tags": []
          },
          "output_type": "execute_result"
        }
      ],
      "source": [
        "# add code here\n",
        "data_frame_merg.rename(columns={'score': 'final_mark'})\n",
        "data_frame_merg"
      ]
    },
    {
      "cell_type": "markdown",
      "metadata": {
        "id": "ux36i1LJl89T"
      },
      "source": [
        "### Requirement FR2.7 - Remove unnecessary column(s)\n",
        "\n",
        "####explanation\n",
        "```\n",
        "Use pandas drop function to remove the specific columns. \n",
        "```"
      ]
    },
    {
      "cell_type": "code",
      "execution_count": null,
      "metadata": {
        "colab": {
          "base_uri": "https://localhost:8080/",
          "height": 419
        },
        "id": "YP-i2DPdl89T",
        "outputId": "569fac7c-70dc-4982-83b1-dad7a88457b2"
      },
      "outputs": [
        {
          "data": {
            "text/html": [
              "<div>\n",
              "<style scoped>\n",
              "    .dataframe tbody tr th:only-of-type {\n",
              "        vertical-align: middle;\n",
              "    }\n",
              "\n",
              "    .dataframe tbody tr th {\n",
              "        vertical-align: top;\n",
              "    }\n",
              "\n",
              "    .dataframe thead th {\n",
              "        text-align: right;\n",
              "    }\n",
              "</style>\n",
              "<table border=\"1\" class=\"dataframe\">\n",
              "  <thead>\n",
              "    <tr style=\"text-align: right;\">\n",
              "      <th></th>\n",
              "      <th>id_student</th>\n",
              "      <th>gender</th>\n",
              "      <th>age_band</th>\n",
              "      <th>disability</th>\n",
              "      <th>score</th>\n",
              "      <th>click_event</th>\n",
              "    </tr>\n",
              "  </thead>\n",
              "  <tbody>\n",
              "    <tr>\n",
              "      <th>0</th>\n",
              "      <td>11391</td>\n",
              "      <td>M</td>\n",
              "      <td>55&lt;=</td>\n",
              "      <td>N</td>\n",
              "      <td>82.0</td>\n",
              "      <td>934.0</td>\n",
              "    </tr>\n",
              "    <tr>\n",
              "      <th>1</th>\n",
              "      <td>28400</td>\n",
              "      <td>F</td>\n",
              "      <td>35-55</td>\n",
              "      <td>N</td>\n",
              "      <td>67.0</td>\n",
              "      <td>1435.0</td>\n",
              "    </tr>\n",
              "    <tr>\n",
              "      <th>2</th>\n",
              "      <td>31604</td>\n",
              "      <td>F</td>\n",
              "      <td>35-55</td>\n",
              "      <td>N</td>\n",
              "      <td>76.0</td>\n",
              "      <td>2158.0</td>\n",
              "    </tr>\n",
              "    <tr>\n",
              "      <th>3</th>\n",
              "      <td>32885</td>\n",
              "      <td>F</td>\n",
              "      <td>0-35</td>\n",
              "      <td>N</td>\n",
              "      <td>55.0</td>\n",
              "      <td>1034.0</td>\n",
              "    </tr>\n",
              "    <tr>\n",
              "      <th>4</th>\n",
              "      <td>38053</td>\n",
              "      <td>M</td>\n",
              "      <td>35-55</td>\n",
              "      <td>N</td>\n",
              "      <td>68.0</td>\n",
              "      <td>2445.0</td>\n",
              "    </tr>\n",
              "    <tr>\n",
              "      <th>...</th>\n",
              "      <td>...</td>\n",
              "      <td>...</td>\n",
              "      <td>...</td>\n",
              "      <td>...</td>\n",
              "      <td>...</td>\n",
              "      <td>...</td>\n",
              "    </tr>\n",
              "    <tr>\n",
              "      <th>26716</th>\n",
              "      <td>2620947</td>\n",
              "      <td>F</td>\n",
              "      <td>0-35</td>\n",
              "      <td>Y</td>\n",
              "      <td>89.0</td>\n",
              "      <td>476.0</td>\n",
              "    </tr>\n",
              "    <tr>\n",
              "      <th>26717</th>\n",
              "      <td>2645731</td>\n",
              "      <td>F</td>\n",
              "      <td>35-55</td>\n",
              "      <td>N</td>\n",
              "      <td>89.0</td>\n",
              "      <td>893.0</td>\n",
              "    </tr>\n",
              "    <tr>\n",
              "      <th>26718</th>\n",
              "      <td>2648187</td>\n",
              "      <td>F</td>\n",
              "      <td>0-35</td>\n",
              "      <td>Y</td>\n",
              "      <td>77.0</td>\n",
              "      <td>312.0</td>\n",
              "    </tr>\n",
              "    <tr>\n",
              "      <th>26719</th>\n",
              "      <td>2679821</td>\n",
              "      <td>F</td>\n",
              "      <td>35-55</td>\n",
              "      <td>N</td>\n",
              "      <td>92.0</td>\n",
              "      <td>275.0</td>\n",
              "    </tr>\n",
              "    <tr>\n",
              "      <th>26720</th>\n",
              "      <td>2684003</td>\n",
              "      <td>F</td>\n",
              "      <td>35-55</td>\n",
              "      <td>N</td>\n",
              "      <td>83.0</td>\n",
              "      <td>616.0</td>\n",
              "    </tr>\n",
              "  </tbody>\n",
              "</table>\n",
              "<p>25275 rows × 6 columns</p>\n",
              "</div>"
            ],
            "text/plain": [
              "       id_student gender age_band disability  score  click_event\n",
              "0           11391      M     55<=          N   82.0        934.0\n",
              "1           28400      F    35-55          N   67.0       1435.0\n",
              "2           31604      F    35-55          N   76.0       2158.0\n",
              "3           32885      F     0-35          N   55.0       1034.0\n",
              "4           38053      M    35-55          N   68.0       2445.0\n",
              "...           ...    ...      ...        ...    ...          ...\n",
              "26716     2620947      F     0-35          Y   89.0        476.0\n",
              "26717     2645731      F    35-55          N   89.0        893.0\n",
              "26718     2648187      F     0-35          Y   77.0        312.0\n",
              "26719     2679821      F    35-55          N   92.0        275.0\n",
              "26720     2684003      F    35-55          N   83.0        616.0\n",
              "\n",
              "[25275 rows x 6 columns]"
            ]
          },
          "execution_count": 73,
          "metadata": {
            "tags": []
          },
          "output_type": "execute_result"
        }
      ],
      "source": [
        "# add code here\n",
        "data_frame_merg = data_frame_merg.drop(['region', 'final_result','highest_education'], axis=1)\n",
        "data_frame_merg"
      ]
    },
    {
      "cell_type": "markdown",
      "metadata": {
        "id": "GFN3H5ISl89U"
      },
      "source": [
        "### Requirement FR2.8 - Write the DataFrame data to a CSV file\n",
        "\n",
        "####explanation\n",
        "```\n",
        "Use pandas to_csv function to generate the csv content, and write to a file.\n",
        "```"
      ]
    },
    {
      "cell_type": "code",
      "execution_count": null,
      "metadata": {
        "colab": {
          "base_uri": "https://localhost:8080/"
        },
        "id": "Nqvex7--l89U",
        "outputId": "619d598b-aeec-46b7-a7ec-9ba6ab1c034c"
      },
      "outputs": [
        {
          "name": "stdout",
          "output_type": "stream",
          "text": [
            "DONE\n"
          ]
        }
      ],
      "source": [
        "# add code here\n",
        "update = data_frame_merg.to_csv()\n",
        "with open('update.csv', 'w') as f:\n",
        "  f.write(update)\n",
        "print(\"Updated DateFrame is written into update\")"
      ]
    },
    {
      "cell_type": "markdown",
      "metadata": {
        "id": "of9l9VHRl89U"
      },
      "source": [
        "### Requirement FR2.9 - Investigate the effects of age-group on attainment and engagement\n",
        "\n",
        "####explanation\n",
        "```\n",
        "Use pandas groupby function to get the aggregated data on a specific column.\n",
        "Get the min, max, mean data for investigation.\n",
        "```"
      ]
    },
    {
      "cell_type": "code",
      "execution_count": null,
      "metadata": {
        "colab": {
          "base_uri": "https://localhost:8080/"
        },
        "id": "0PVMD97Al89V",
        "outputId": "96ed4f78-7b8e-4283-bb24-86aaaf0626cb"
      },
      "outputs": [
        {
          "name": "stdout",
          "output_type": "stream",
          "text": [
            "Score\n",
            "[min] age_band\n",
            "0-35      0.0\n",
            "35-55     0.0\n",
            "55<=     20.0\n",
            "Name: score, dtype: float64 \n",
            "\n",
            "[max] age_band\n",
            "0-35     100.0\n",
            "35-55    100.0\n",
            "55<=     100.0\n",
            "Name: score, dtype: float64 \n",
            "\n",
            "[avg] age_band\n",
            "0-35     72.503923\n",
            "35-55    75.035810\n",
            "55<=     77.718919\n",
            "Name: score, dtype: float64 \n",
            "\n",
            "Click event\n",
            "[min] age_band\n",
            "0-35     10.0\n",
            "35-55    10.0\n",
            "55<=     19.0\n",
            "Name: click_event, dtype: float64 \n",
            "\n",
            "[max] age_band\n",
            "0-35     28615.0\n",
            "35-55    21204.0\n",
            "55<=     19126.0\n",
            "Name: click_event, dtype: float64 \n",
            "\n",
            "[avg] age_band\n",
            "0-35     1615.927374\n",
            "35-55    2190.541172\n",
            "55<=     3574.864865\n",
            "Name: click_event, dtype: float64 \n",
            "\n"
          ]
        }
      ],
      "source": [
        "# add code here\n",
        "max_score = data_frame_merg.groupby(['age_band'])['score'].max()\n",
        "avg_score = data_frame_merg.groupby(['age_band'])['score'].mean()\n",
        "min_score = data_frame_merg.groupby(['age_band'])['score'].min()\n",
        "\n",
        "max_click_event = data_frame_merg.groupby(['age_band'])['click_event'].max()\n",
        "avg_click_event = data_frame_merg.groupby(['age_band'])['click_event'].mean()\n",
        "min_click_event = data_frame_merg.groupby(['age_band'])['click_event'].min()\n",
        "\n",
        "print(\"Score\")\n",
        "print('[min]', min_score,'\\n')\n",
        "print('[max]', max_score,'\\n')\n",
        "print('[avg]', avg_score,'\\n')\n",
        "\n",
        "print(\"Click event\")\n",
        "print('[min]', min_click_event,'\\n')\n",
        "print('[max]', max_click_event,'\\n')\n",
        "print('[avg]', avg_click_event,'\\n')"
      ]
    },
    {
      "cell_type": "markdown",
      "metadata": {
        "id": "zeE2aZN70mLN"
      },
      "source": []
    },
    {
      "cell_type": "markdown",
      "metadata": {
        "id": "59JL6BQFl89V"
      },
      "source": [
        "### Requirement FR2.10 - Present the results of the age-group investigation using an appropriate visualisation\n",
        "\n",
        "####explanation\n",
        "```\n",
        "Use pandas DataFrame constructor to create a data frame object,\n",
        "then call the graph generate function to create graphs.\n",
        "```"
      ]
    },
    {
      "cell_type": "code",
      "execution_count": null,
      "metadata": {
        "colab": {
          "base_uri": "https://localhost:8080/",
          "height": 930
        },
        "id": "KxIefZPUl89V",
        "outputId": "4879ce3b-8d35-4850-d767-a21a5fd22df5"
      },
      "outputs": [
        {
          "data": {
            "text/plain": [
              "<matplotlib.axes._subplots.AxesSubplot at 0x7fbf045eab10>"
            ]
          },
          "execution_count": 117,
          "metadata": {
            "tags": []
          },
          "output_type": "execute_result"
        },
        {
          "data": {
            "image/png": "[encoded data removed]",
            "text/plain": [
              "<Figure size 640x480 with 1 Axes>"
            ]
          },
          "metadata": {
            "tags": []
          },
          "output_type": "display_data"
        },
        {
          "data": {
            "image/png": "[encoded data removed]",
            "text/plain": [
              "<Figure size 640x480 with 1 Axes>"
            ]
          },
          "metadata": {
            "tags": []
          },
          "output_type": "display_data"
        }
      ],
      "source": [
        "# add code here\n",
        "import matplotlib.pyplot as plt; plt.rcdefaults()\n",
        "import numpy as np\n",
        "import matplotlib.pyplot as plt\n",
        "\n",
        "score_statistics = pd.DataFrame(data={\n",
        "    'min_score': min_score,\n",
        "    'max_score': max_score,\n",
        "    'avg_score': avg_score\n",
        "})\n",
        "score_statistics.plot.bar()\n",
        "\n",
        "click_event_statistics = pd.DataFrame(data={\n",
        "    'min_click_event': min_click_event,\n",
        "    'max_click_event': max_click_event,\n",
        "    'avg_click_event': avg_click_event\n",
        "})\n",
        "click_event_statistics.plot.line()\n",
        "\n"
      ]
    },
    {
      "cell_type": "markdown",
      "metadata": {
        "id": "dp6t2D6Jl89W"
      },
      "source": [
        "### Requirement FR2.11 - Investigate the effects of engagement on attainment"
      ]
    },
    {
      "cell_type": "code",
      "execution_count": null,
      "metadata": {
        "id": "pvMTRZqdl89W"
      },
      "outputs": [],
      "source": [
        "# add code here\n",
        "data_frame_merg.corr().style.background_gradient(cmap=\"Blues\")"
      ]
    },
    {
      "cell_type": "markdown",
      "metadata": {
        "id": "VfmirCPVl89X"
      },
      "source": [
        "### Requirement FR2.12 - Test the hypothesis that there is a significant effect on attainment"
      ]
    },
    {
      "cell_type": "code",
      "execution_count": null,
      "metadata": {
        "id": "MVif1cuMl89X"
      },
      "outputs": [],
      "source": [
        "# add code here"
      ]
    },
    {
      "attachments": {},
      "cell_type": "markdown",
      "metadata": {
        "id": "DOz-ABItl89X"
      },
      "source": [
        "# Process Development Report for Task 2\n",
        "\n",
        "```This work aims to put to the test data science's primary goals: data exploration, visualization, and analysis. To complete this assignment, we made use of tools like NumPy, Pandas, and Matplotlib/Sraborn.\n",
        "\n",
        "Reading the provided \"task2a.csv\" file into a DataFrame object was the first step. I read and stored the file as a DataFrame using the pandas package, which I installed to accomplish this. The second set, \"task2b.csv,\" underwent the identical procedure, adding the header rows of \"id student\" and \"click events.\" I used the merge function of pandas to combine the two DataFrames into one, and I gave the new DataFrame the name \"data task2.\"\n",
        "We are expected to explore the attainment (final mark) and engagement (click events) when grouped according to age groups (age band) for the data exploration, analysis, and visualization portion of the task. I need the NumPy library's math and statistics functions to do this. Then, using data from the \"update.csv\" file, the mean of final mark and click events according to age band was calculated. Bar plots from the MatPlotLib and SeaBorn libraries were used to depict these averages for final mark and involvement by age group.\n",
        "I then considered how engagement affected the student's overall grade. I visualized potential correlation using the scatter plot and regression plot.\n",
        "In conclusion, work 2 is much simpler for me to do than task 1 was. This is because the libraries are readily available for us to employ in order to explore, analyze, and visualize the provided data. It has been an interesting learning curve for someone with almost no programming experienc\n",
        "```"
      ]
    }
  ],
  "metadata": {
    "colab": {
      "collapsed_sections": [],
      "name": "UFCFVQ-15-M Programming Task 2 Template.ipynb",
      "provenance": []
    },
    "kernelspec": {
      "display_name": "Python 3",
      "language": "python",
      "name": "python3"
    },
    "language_info": {
      "codemirror_mode": {
        "name": "ipython",
        "version": 3
      },
      "file_extension": ".py",
      "mimetype": "text/x-python",
      "name": "python",
      "nbconvert_exporter": "python",
      "pygments_lexer": "ipython3",
      "version": "3.10.5 (tags/v3.10.5:f377153, Jun  6 2022, 16:14:13) [MSC v.1929 64 bit (AMD64)]"
    },
    "vscode": {
      "interpreter": {
        "hash": "afb734500600fd355917ca529030176ea0ca205570884b88f2f6f7d791fd3fbe"
      }
    }
  },
  "nbformat": 4,
  "nbformat_minor": 0
}
